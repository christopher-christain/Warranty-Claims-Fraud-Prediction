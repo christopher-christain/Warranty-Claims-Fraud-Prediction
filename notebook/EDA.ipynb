{
 "cells": [
  {
   "cell_type": "code",
   "execution_count": 2,
   "id": "e106a878",
   "metadata": {},
   "outputs": [],
   "source": [
    "# importing necessary library\n",
    "import pandas as pd\n",
    "import numpy as np\n",
    "import matplotlib.pyplot as plt\n",
    "import seaborn as sns"
   ]
  },
  {
   "cell_type": "code",
   "execution_count": 5,
   "id": "8254a17b",
   "metadata": {},
   "outputs": [
    {
     "data": {
      "text/html": [
       "<div>\n",
       "<style scoped>\n",
       "    .dataframe tbody tr th:only-of-type {\n",
       "        vertical-align: middle;\n",
       "    }\n",
       "\n",
       "    .dataframe tbody tr th {\n",
       "        vertical-align: top;\n",
       "    }\n",
       "\n",
       "    .dataframe thead th {\n",
       "        text-align: right;\n",
       "    }\n",
       "</style>\n",
       "<table border=\"1\" class=\"dataframe\">\n",
       "  <thead>\n",
       "    <tr style=\"text-align: right;\">\n",
       "      <th></th>\n",
       "      <th>Unnamed: 0</th>\n",
       "      <th>Region</th>\n",
       "      <th>State</th>\n",
       "      <th>Area</th>\n",
       "      <th>City</th>\n",
       "      <th>Consumer_profile</th>\n",
       "      <th>Product_category</th>\n",
       "      <th>Product_type</th>\n",
       "      <th>AC_1001_Issue</th>\n",
       "      <th>AC_1002_Issue</th>\n",
       "      <th>...</th>\n",
       "      <th>TV_2001_Issue</th>\n",
       "      <th>TV_2002_Issue</th>\n",
       "      <th>TV_2003_Issue</th>\n",
       "      <th>Claim_Value</th>\n",
       "      <th>Service_Centre</th>\n",
       "      <th>Product_Age</th>\n",
       "      <th>Purchased_from</th>\n",
       "      <th>Call_details</th>\n",
       "      <th>Purpose</th>\n",
       "      <th>Fraud</th>\n",
       "    </tr>\n",
       "  </thead>\n",
       "  <tbody>\n",
       "    <tr>\n",
       "      <th>0</th>\n",
       "      <td>0</td>\n",
       "      <td>South</td>\n",
       "      <td>Karnataka</td>\n",
       "      <td>Urban</td>\n",
       "      <td>Bangalore</td>\n",
       "      <td>Business</td>\n",
       "      <td>Entertainment</td>\n",
       "      <td>TV</td>\n",
       "      <td>0</td>\n",
       "      <td>0</td>\n",
       "      <td>...</td>\n",
       "      <td>1</td>\n",
       "      <td>2</td>\n",
       "      <td>0</td>\n",
       "      <td>15000.0</td>\n",
       "      <td>10</td>\n",
       "      <td>60</td>\n",
       "      <td>Manufacturer</td>\n",
       "      <td>0.5</td>\n",
       "      <td>Complaint</td>\n",
       "      <td>1</td>\n",
       "    </tr>\n",
       "    <tr>\n",
       "      <th>1</th>\n",
       "      <td>1</td>\n",
       "      <td>South</td>\n",
       "      <td>Karnataka</td>\n",
       "      <td>Rural</td>\n",
       "      <td>Bangalore</td>\n",
       "      <td>Business</td>\n",
       "      <td>Household</td>\n",
       "      <td>AC</td>\n",
       "      <td>1</td>\n",
       "      <td>1</td>\n",
       "      <td>...</td>\n",
       "      <td>0</td>\n",
       "      <td>0</td>\n",
       "      <td>0</td>\n",
       "      <td>20000.0</td>\n",
       "      <td>12</td>\n",
       "      <td>10</td>\n",
       "      <td>Dealer</td>\n",
       "      <td>1.0</td>\n",
       "      <td>Complaint</td>\n",
       "      <td>0</td>\n",
       "    </tr>\n",
       "    <tr>\n",
       "      <th>2</th>\n",
       "      <td>2</td>\n",
       "      <td>North</td>\n",
       "      <td>Haryana</td>\n",
       "      <td>Urban</td>\n",
       "      <td>Chandigarh</td>\n",
       "      <td>Personal</td>\n",
       "      <td>Household</td>\n",
       "      <td>AC</td>\n",
       "      <td>0</td>\n",
       "      <td>1</td>\n",
       "      <td>...</td>\n",
       "      <td>0</td>\n",
       "      <td>0</td>\n",
       "      <td>0</td>\n",
       "      <td>18000.0</td>\n",
       "      <td>14</td>\n",
       "      <td>10</td>\n",
       "      <td>Dealer</td>\n",
       "      <td>1.4</td>\n",
       "      <td>Claim</td>\n",
       "      <td>0</td>\n",
       "    </tr>\n",
       "    <tr>\n",
       "      <th>3</th>\n",
       "      <td>3</td>\n",
       "      <td>South</td>\n",
       "      <td>Tamil Nadu</td>\n",
       "      <td>Urban</td>\n",
       "      <td>Chennai</td>\n",
       "      <td>Business</td>\n",
       "      <td>Entertainment</td>\n",
       "      <td>TV</td>\n",
       "      <td>0</td>\n",
       "      <td>0</td>\n",
       "      <td>...</td>\n",
       "      <td>1</td>\n",
       "      <td>1</td>\n",
       "      <td>0</td>\n",
       "      <td>12000.0</td>\n",
       "      <td>16</td>\n",
       "      <td>20</td>\n",
       "      <td>Manufacturer</td>\n",
       "      <td>2.0</td>\n",
       "      <td>Complaint</td>\n",
       "      <td>0</td>\n",
       "    </tr>\n",
       "    <tr>\n",
       "      <th>4</th>\n",
       "      <td>4</td>\n",
       "      <td>North East</td>\n",
       "      <td>Jharkhand</td>\n",
       "      <td>Rural</td>\n",
       "      <td>Ranchi</td>\n",
       "      <td>Personal</td>\n",
       "      <td>Entertainment</td>\n",
       "      <td>TV</td>\n",
       "      <td>0</td>\n",
       "      <td>0</td>\n",
       "      <td>...</td>\n",
       "      <td>0</td>\n",
       "      <td>1</td>\n",
       "      <td>2</td>\n",
       "      <td>25000.0</td>\n",
       "      <td>15</td>\n",
       "      <td>6</td>\n",
       "      <td>Dealer</td>\n",
       "      <td>1.3</td>\n",
       "      <td>Claim</td>\n",
       "      <td>0</td>\n",
       "    </tr>\n",
       "  </tbody>\n",
       "</table>\n",
       "<p>5 rows × 21 columns</p>\n",
       "</div>"
      ],
      "text/plain": [
       "   Unnamed: 0      Region       State   Area        City Consumer_profile  \\\n",
       "0           0       South   Karnataka  Urban   Bangalore         Business   \n",
       "1           1       South   Karnataka  Rural   Bangalore         Business   \n",
       "2           2       North     Haryana  Urban  Chandigarh         Personal   \n",
       "3           3       South  Tamil Nadu  Urban     Chennai         Business   \n",
       "4           4  North East   Jharkhand  Rural      Ranchi         Personal   \n",
       "\n",
       "  Product_category Product_type  AC_1001_Issue  AC_1002_Issue  ...  \\\n",
       "0    Entertainment           TV              0              0  ...   \n",
       "1        Household           AC              1              1  ...   \n",
       "2        Household           AC              0              1  ...   \n",
       "3    Entertainment           TV              0              0  ...   \n",
       "4    Entertainment           TV              0              0  ...   \n",
       "\n",
       "   TV_2001_Issue  TV_2002_Issue  TV_2003_Issue  Claim_Value  Service_Centre  \\\n",
       "0              1              2              0      15000.0              10   \n",
       "1              0              0              0      20000.0              12   \n",
       "2              0              0              0      18000.0              14   \n",
       "3              1              1              0      12000.0              16   \n",
       "4              0              1              2      25000.0              15   \n",
       "\n",
       "   Product_Age  Purchased_from Call_details    Purpose Fraud  \n",
       "0           60    Manufacturer          0.5  Complaint     1  \n",
       "1           10          Dealer          1.0  Complaint     0  \n",
       "2           10          Dealer          1.4      Claim     0  \n",
       "3           20    Manufacturer          2.0  Complaint     0  \n",
       "4            6          Dealer          1.3      Claim     0  \n",
       "\n",
       "[5 rows x 21 columns]"
      ]
     },
     "execution_count": 5,
     "metadata": {},
     "output_type": "execute_result"
    }
   ],
   "source": [
    "# loading the data-set\n",
    "\n",
    "data = pd.read_csv(r\"C:\\Users\\User\\Desktop\\Warranty-Claims-Fraud-Prediction\\data\\cleaned-data\\df_Clean.csv\")\n",
    "data.head()"
   ]
  },
  {
   "cell_type": "markdown",
   "id": "a5bb5036",
   "metadata": {},
   "source": [
    "# data preprocessing part 1"
   ]
  },
  {
   "cell_type": "code",
   "execution_count": 6,
   "id": "655ffc06",
   "metadata": {},
   "outputs": [
    {
     "data": {
      "text/plain": [
       "(358, 21)"
      ]
     },
     "execution_count": 6,
     "metadata": {},
     "output_type": "execute_result"
    }
   ],
   "source": [
    "data.shape"
   ]
  },
  {
   "cell_type": "code",
   "execution_count": null,
   "id": "63ff5425",
   "metadata": {},
   "outputs": [],
   "source": [
    "# dropping columns not needed in the dataset\n",
    "data.drop ([\"Unnamed: 0\"], axis=1, inplace=True)"
   ]
  },
  {
   "cell_type": "code",
   "execution_count": null,
   "id": "5eac9aaa",
   "metadata": {},
   "outputs": [
    {
     "data": {
      "text/plain": [
       "Region              0\n",
       "State               0\n",
       "Area                0\n",
       "City                0\n",
       "Consumer_profile    0\n",
       "Product_category    0\n",
       "Product_type        0\n",
       "AC_1001_Issue       0\n",
       "AC_1002_Issue       0\n",
       "AC_1003_Issue       0\n",
       "TV_2001_Issue       0\n",
       "TV_2002_Issue       0\n",
       "TV_2003_Issue       0\n",
       "Claim_Value         0\n",
       "Service_Centre      0\n",
       "Product_Age         0\n",
       "Purchased_from      0\n",
       "Call_details        0\n",
       "Purpose             0\n",
       "Fraud               0\n",
       "dtype: int64"
      ]
     },
     "execution_count": 9,
     "metadata": {},
     "output_type": "execute_result"
    }
   ],
   "source": [
    "# checking for the sum of  null values in each columns\n",
    "data.isnull().sum()"
   ]
  },
  {
   "cell_type": "code",
   "execution_count": 11,
   "id": "d0610a1e",
   "metadata": {},
   "outputs": [
    {
     "data": {
      "text/plain": [
       "0"
      ]
     },
     "execution_count": 11,
     "metadata": {},
     "output_type": "execute_result"
    }
   ],
   "source": [
    "# checking for duplicates\n",
    "data.duplicated().sum()"
   ]
  },
  {
   "cell_type": "code",
   "execution_count": 12,
   "id": "230fb3c8",
   "metadata": {},
   "outputs": [
    {
     "data": {
      "text/plain": [
       "Region               object\n",
       "State                object\n",
       "Area                 object\n",
       "City                 object\n",
       "Consumer_profile     object\n",
       "Product_category     object\n",
       "Product_type         object\n",
       "AC_1001_Issue         int64\n",
       "AC_1002_Issue         int64\n",
       "AC_1003_Issue         int64\n",
       "TV_2001_Issue         int64\n",
       "TV_2002_Issue         int64\n",
       "TV_2003_Issue         int64\n",
       "Claim_Value         float64\n",
       "Service_Centre        int64\n",
       "Product_Age           int64\n",
       "Purchased_from       object\n",
       "Call_details        float64\n",
       "Purpose              object\n",
       "Fraud                 int64\n",
       "dtype: object"
      ]
     },
     "execution_count": 12,
     "metadata": {},
     "output_type": "execute_result"
    }
   ],
   "source": [
    "# checking the data type of each columns\n",
    "data.dtypes"
   ]
  },
  {
   "cell_type": "code",
   "execution_count": 14,
   "id": "551d8afd",
   "metadata": {},
   "outputs": [
    {
     "data": {
      "text/plain": [
       "Region                8\n",
       "State                20\n",
       "Area                  2\n",
       "City                 27\n",
       "Consumer_profile      2\n",
       "Product_category      2\n",
       "Product_type          2\n",
       "AC_1001_Issue         3\n",
       "AC_1002_Issue         3\n",
       "AC_1003_Issue         3\n",
       "TV_2001_Issue         3\n",
       "TV_2002_Issue         3\n",
       "TV_2003_Issue         3\n",
       "Claim_Value         107\n",
       "Service_Centre        7\n",
       "Product_Age         188\n",
       "Purchased_from        3\n",
       "Call_details         37\n",
       "Purpose               3\n",
       "Fraud                 2\n",
       "dtype: int64"
      ]
     },
     "execution_count": 14,
     "metadata": {},
     "output_type": "execute_result"
    }
   ],
   "source": [
    "# checking for unique values in each columns\n",
    "data.nunique()"
   ]
  },
  {
   "cell_type": "code",
   "execution_count": null,
   "id": "ac80672a",
   "metadata": {},
   "outputs": [],
   "source": []
  }
 ],
 "metadata": {
  "kernelspec": {
   "display_name": "base",
   "language": "python",
   "name": "python3"
  },
  "language_info": {
   "codemirror_mode": {
    "name": "ipython",
    "version": 3
   },
   "file_extension": ".py",
   "mimetype": "text/x-python",
   "name": "python",
   "nbconvert_exporter": "python",
   "pygments_lexer": "ipython3",
   "version": "3.12.7"
  }
 },
 "nbformat": 4,
 "nbformat_minor": 5
}
